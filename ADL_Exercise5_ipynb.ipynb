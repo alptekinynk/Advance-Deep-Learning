{
  "nbformat": 4,
  "nbformat_minor": 0,
  "metadata": {
    "colab": {
      "provenance": [],
      "gpuType": "T4",
      "authorship_tag": "ABX9TyNN9BZ55k4eqLWM+xB49BBw",
      "include_colab_link": true
    },
    "kernelspec": {
      "name": "python3",
      "display_name": "Python 3"
    },
    "language_info": {
      "name": "python"
    },
    "accelerator": "GPU"
  },
  "cells": [
    {
      "cell_type": "markdown",
      "metadata": {
        "id": "view-in-github",
        "colab_type": "text"
      },
      "source": [
        "<a href=\"https://colab.research.google.com/github/alptekinynk/Advance-Deep-Learning/blob/main/ADL_Exercise5_ipynb.ipynb\" target=\"_parent\"><img src=\"https://colab.research.google.com/assets/colab-badge.svg\" alt=\"Open In Colab\"/></a>"
      ]
    },
    {
      "cell_type": "code",
      "execution_count": 14,
      "metadata": {
        "id": "jIzRsXDeSrkl"
      },
      "outputs": [],
      "source": [
        "import tensorflow as tf\n",
        "from tensorflow.keras import datasets, layers, models\n",
        "import numpy as np\n",
        "import matplotlib.pyplot as plt\n",
        "import cv2\n",
        "from tensorflow.keras.preprocessing.image import ImageDataGenerator"
      ]
    },
    {
      "cell_type": "code",
      "source": [
        "# CIFAR10 load\n",
        "(x_train, y_train), (x_test, y_test) = datasets.cifar10.load_data()\n",
        "x_train, x_test = x_train / 255.0, x_test / 255.0  # Normalizasyon\n",
        "\n",
        "# CNN create for cifar10\n",
        "def create_cnn_cifar10():\n",
        "    model = models.Sequential([\n",
        "        layers.Conv2D(32, (3, 3), activation='relu', input_shape=(32, 32, 3)),\n",
        "        layers.MaxPooling2D((2, 2)),\n",
        "        layers.Conv2D(64, (3, 3), activation='relu'),\n",
        "        layers.MaxPooling2D((2, 2)),\n",
        "        layers.Conv2D(64, (3, 3), activation='relu'),\n",
        "        layers.Flatten(),\n",
        "        layers.Dense(64, activation='relu'),\n",
        "        layers.Dense(10, activation='softmax')\n",
        "    ])\n",
        "    return model\n",
        "\n",
        "# train model\n",
        "model_cifar10 = create_cnn_cifar10()\n",
        "model_cifar10.compile(optimizer='adam', loss='sparse_categorical_crossentropy', metrics=['accuracy'])\n",
        "model_cifar10.fit(x_train, y_train, epochs=5, validation_data=(x_test, y_test))\n"
      ],
      "metadata": {
        "colab": {
          "base_uri": "https://localhost:8080/"
        },
        "id": "l28YkaxX7Sdw",
        "outputId": "777a4d4f-1a7e-4c7e-a640-8c3f7d8d9d10"
      },
      "execution_count": 16,
      "outputs": [
        {
          "output_type": "stream",
          "name": "stdout",
          "text": [
            "Epoch 1/5\n",
            "\u001b[1m1563/1563\u001b[0m \u001b[32m━━━━━━━━━━━━━━━━━━━━\u001b[0m\u001b[37m\u001b[0m \u001b[1m10s\u001b[0m 4ms/step - accuracy: 0.3531 - loss: 1.7363 - val_accuracy: 0.5636 - val_loss: 1.2248\n",
            "Epoch 2/5\n",
            "\u001b[1m1563/1563\u001b[0m \u001b[32m━━━━━━━━━━━━━━━━━━━━\u001b[0m\u001b[37m\u001b[0m \u001b[1m7s\u001b[0m 4ms/step - accuracy: 0.5800 - loss: 1.1794 - val_accuracy: 0.6261 - val_loss: 1.0592\n",
            "Epoch 3/5\n",
            "\u001b[1m1563/1563\u001b[0m \u001b[32m━━━━━━━━━━━━━━━━━━━━\u001b[0m\u001b[37m\u001b[0m \u001b[1m5s\u001b[0m 3ms/step - accuracy: 0.6517 - loss: 0.9906 - val_accuracy: 0.6693 - val_loss: 0.9531\n",
            "Epoch 4/5\n",
            "\u001b[1m1563/1563\u001b[0m \u001b[32m━━━━━━━━━━━━━━━━━━━━\u001b[0m\u001b[37m\u001b[0m \u001b[1m4s\u001b[0m 3ms/step - accuracy: 0.6931 - loss: 0.8692 - val_accuracy: 0.6825 - val_loss: 0.9086\n",
            "Epoch 5/5\n",
            "\u001b[1m1563/1563\u001b[0m \u001b[32m━━━━━━━━━━━━━━━━━━━━\u001b[0m\u001b[37m\u001b[0m \u001b[1m5s\u001b[0m 3ms/step - accuracy: 0.7224 - loss: 0.7916 - val_accuracy: 0.6959 - val_loss: 0.8767\n"
          ]
        },
        {
          "output_type": "execute_result",
          "data": {
            "text/plain": [
              "<keras.src.callbacks.history.History at 0x7a71dc409b10>"
            ]
          },
          "metadata": {},
          "execution_count": 16
        }
      ]
    },
    {
      "cell_type": "code",
      "source": [
        "# dog.jpg\n",
        "dog_img = cv2.imread(\"dog.jpg\")\n",
        "dog_img = cv2.cvtColor(dog_img, cv2.COLOR_BGR2RGB)\n",
        "dog_img = cv2.resize(dog_img, (32, 32)) / 255.0  #resize and normalize\n",
        "\n",
        "# Horizontal Flip\n",
        "dog_img_hf = cv2.flip(dog_img, 1)\n",
        "# Vertical Flip\n",
        "dog_img_vf = cv2.flip(dog_img, 0)\n",
        "\n",
        "# show image\n",
        "fig, axes = plt.subplots(1, 3, figsize=(10, 4))\n",
        "axes[0].imshow(dog_img)\n",
        "axes[0].set_title(\"Original\")\n",
        "axes[1].imshow(dog_img_hf)\n",
        "axes[1].set_title(\"Horizontal Flip\")\n",
        "axes[2].imshow(dog_img_vf)\n",
        "axes[2].set_title(\"Vertical Flip\")\n",
        "plt.show()\n",
        "\n",
        "# prediction\n",
        "pred_original = np.argmax(model_cifar10.predict(np.expand_dims(dog_img, axis=0)))\n",
        "pred_hf = np.argmax(model_cifar10.predict(np.expand_dims(dog_img_hf, axis=0)))\n",
        "pred_vf = np.argmax(model_cifar10.predict(np.expand_dims(dog_img_vf, axis=0)))\n",
        "\n",
        "print(f\"Original Image Prediction: {pred_original}\")\n",
        "print(f\"Horizontal Flip Prediction: {pred_hf}\")\n",
        "print(f\"Vertical Flip Prediction: {pred_vf}\")"
      ],
      "metadata": {
        "colab": {
          "base_uri": "https://localhost:8080/",
          "height": 417
        },
        "id": "RlNsIU1V7kLD",
        "outputId": "657104f3-4c07-42d5-8071-3b9f88b00563"
      },
      "execution_count": 17,
      "outputs": [
        {
          "output_type": "display_data",
          "data": {
            "text/plain": [
              "<Figure size 1000x400 with 3 Axes>"
            ],
            "image/png": "[encoded data removed]"
          },
          "metadata": {}
        },
        {
          "output_type": "stream",
          "name": "stdout",
          "text": [
            "\u001b[1m1/1\u001b[0m \u001b[32m━━━━━━━━━━━━━━━━━━━━\u001b[0m\u001b[37m\u001b[0m \u001b[1m1s\u001b[0m 503ms/step\n",
            "\u001b[1m1/1\u001b[0m \u001b[32m━━━━━━━━━━━━━━━━━━━━\u001b[0m\u001b[37m\u001b[0m \u001b[1m0s\u001b[0m 18ms/step\n",
            "\u001b[1m1/1\u001b[0m \u001b[32m━━━━━━━━━━━━━━━━━━━━\u001b[0m\u001b[37m\u001b[0m \u001b[1m0s\u001b[0m 15ms/step\n",
            "Original Image Prediction: 5\n",
            "Horizontal Flip Prediction: 5\n",
            "Vertical Flip Prediction: 5\n"
          ]
        }
      ]
    },
    {
      "cell_type": "code",
      "source": [
        "# MNIST load\n",
        "(x_train, y_train), (x_test, y_test) = datasets.mnist.load_data()\n",
        "x_train = np.expand_dims(x_train / 255.0, axis=-1)\n",
        "x_test = np.expand_dims(x_test / 255.0, axis=-1)\n",
        "\n",
        "# CNN model for mnist\n",
        "def create_cnn_mnist():\n",
        "    model = models.Sequential([\n",
        "        layers.Conv2D(32, (3, 3), activation='relu', input_shape=(28, 28, 1)),\n",
        "        layers.MaxPooling2D((2, 2)),\n",
        "        layers.Conv2D(64, (3, 3), activation='relu'),\n",
        "        layers.MaxPooling2D((2, 2)),\n",
        "        layers.Conv2D(64, (3, 3), activation='relu'),\n",
        "        layers.Flatten(),\n",
        "        layers.Dense(64, activation='relu'),\n",
        "        layers.Dense(10, activation='softmax')\n",
        "    ])\n",
        "    return model\n",
        "\n",
        "# train model\n",
        "model_mnist = create_cnn_mnist()\n",
        "model_mnist.compile(optimizer='adam', loss='sparse_categorical_crossentropy', metrics=['accuracy'])\n",
        "model_mnist.fit(x_train, y_train, epochs=5, validation_data=(x_test, y_test))\n"
      ],
      "metadata": {
        "colab": {
          "base_uri": "https://localhost:8080/"
        },
        "id": "8W3QyEZO7x1l",
        "outputId": "67434898-014d-4187-83aa-cda49b9e77ec"
      },
      "execution_count": 18,
      "outputs": [
        {
          "output_type": "stream",
          "name": "stdout",
          "text": [
            "Epoch 1/5\n",
            "\u001b[1m1875/1875\u001b[0m \u001b[32m━━━━━━━━━━━━━━━━━━━━\u001b[0m\u001b[37m\u001b[0m \u001b[1m9s\u001b[0m 4ms/step - accuracy: 0.8894 - loss: 0.3535 - val_accuracy: 0.9852 - val_loss: 0.0461\n",
            "Epoch 2/5\n",
            "\u001b[1m1875/1875\u001b[0m \u001b[32m━━━━━━━━━━━━━━━━━━━━\u001b[0m\u001b[37m\u001b[0m \u001b[1m5s\u001b[0m 2ms/step - accuracy: 0.9851 - loss: 0.0479 - val_accuracy: 0.9905 - val_loss: 0.0293\n",
            "Epoch 3/5\n",
            "\u001b[1m1875/1875\u001b[0m \u001b[32m━━━━━━━━━━━━━━━━━━━━\u001b[0m\u001b[37m\u001b[0m \u001b[1m5s\u001b[0m 3ms/step - accuracy: 0.9896 - loss: 0.0343 - val_accuracy: 0.9914 - val_loss: 0.0252\n",
            "Epoch 4/5\n",
            "\u001b[1m1875/1875\u001b[0m \u001b[32m━━━━━━━━━━━━━━━━━━━━\u001b[0m\u001b[37m\u001b[0m \u001b[1m6s\u001b[0m 3ms/step - accuracy: 0.9926 - loss: 0.0233 - val_accuracy: 0.9895 - val_loss: 0.0319\n",
            "Epoch 5/5\n",
            "\u001b[1m1875/1875\u001b[0m \u001b[32m━━━━━━━━━━━━━━━━━━━━\u001b[0m\u001b[37m\u001b[0m \u001b[1m10s\u001b[0m 3ms/step - accuracy: 0.9933 - loss: 0.0202 - val_accuracy: 0.9901 - val_loss: 0.0328\n"
          ]
        },
        {
          "output_type": "execute_result",
          "data": {
            "text/plain": [
              "<keras.src.callbacks.history.History at 0x7a71c558ded0>"
            ]
          },
          "metadata": {},
          "execution_count": 18
        }
      ]
    },
    {
      "cell_type": "code",
      "source": [
        "# handwritten6.jpg\n",
        "img = cv2.imread(\"handwritten6.jpg\", cv2.IMREAD_GRAYSCALE)\n",
        "img = cv2.resize(img, (28, 28)) / 255.0\n",
        "img = np.expand_dims(img, axis=-1)\n",
        "\n",
        "# Rotation Augmentation\n",
        "datagen = ImageDataGenerator(rotation_range=70) # degree 70\n",
        "rotated_img = next(datagen.flow(np.expand_dims(img, axis=0), batch_size=1))[0]\n",
        "\n",
        "# show Image\n",
        "fig, axes = plt.subplots(1, 2, figsize=(8, 4))\n",
        "axes[0].imshow(img.squeeze(), cmap=\"gray\")\n",
        "axes[0].set_title(\"Original\")\n",
        "axes[1].imshow(rotated_img.squeeze(), cmap=\"gray\")\n",
        "axes[1].set_title(\"Rotated\")\n",
        "plt.show()\n",
        "\n",
        "# model train and prediction\n",
        "pred_original = np.argmax(model_mnist.predict(np.expand_dims(img, axis=0)))\n",
        "pred_rotated = np.argmax(model_mnist.predict(np.expand_dims(rotated_img, axis=0)))\n",
        "\n",
        "print(f\"Original Image Prediction: {pred_original}\")\n",
        "print(f\"Rotated Image Prediction: {pred_rotated}\")"
      ],
      "metadata": {
        "colab": {
          "base_uri": "https://localhost:8080/",
          "height": 435
        },
        "id": "tAIbd2ws6Oph",
        "outputId": "19d02478-a819-4c89-e396-ff1192495a5d"
      },
      "execution_count": 21,
      "outputs": [
        {
          "output_type": "display_data",
          "data": {
            "text/plain": [
              "<Figure size 800x400 with 2 Axes>"
            ],
            "image/png": "[encoded data removed]"
          },
          "metadata": {}
        },
        {
          "output_type": "stream",
          "name": "stdout",
          "text": [
            "\u001b[1m1/1\u001b[0m \u001b[32m━━━━━━━━━━━━━━━━━━━━\u001b[0m\u001b[37m\u001b[0m \u001b[1m0s\u001b[0m 16ms/step\n",
            "\u001b[1m1/1\u001b[0m \u001b[32m━━━━━━━━━━━━━━━━━━━━\u001b[0m\u001b[37m\u001b[0m \u001b[1m0s\u001b[0m 16ms/step\n",
            "Original Image Prediction: 5\n",
            "Rotated Image Prediction: 5\n"
          ]
        }
      ]
    },
    {
      "cell_type": "code",
      "source": [],
      "metadata": {
        "id": "6jN_KtV76pLW"
      },
      "execution_count": 3,
      "outputs": []
    }
  ]
}